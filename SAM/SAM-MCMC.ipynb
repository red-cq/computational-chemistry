{
 "cells": [
  {
   "cell_type": "markdown",
   "id": "21c0450e",
   "metadata": {},
   "source": [
    "# **⚡ SAM with MCMC**"
   ]
  },
  {
   "cell_type": "code",
   "execution_count": 1,
   "id": "890af7ec",
   "metadata": {},
   "outputs": [],
   "source": [
    "import numpy as np\n",
    "import pandas as pd\n",
    "import matplotlib.pyplot as plt\n",
    "import seaborn as sns"
   ]
  },
  {
   "cell_type": "markdown",
   "id": "298b026c",
   "metadata": {},
   "source": [
    "## **🧮 Intermolecular Potential**"
   ]
  },
  {
   "cell_type": "code",
   "execution_count": 2,
   "id": "74459936",
   "metadata": {},
   "outputs": [],
   "source": [
    "# Lennard-Jones potential energy function between all pairs of atoms.\n",
    "def intermolecular_pair_potential(coordinates, epsilon=1.0, sigma=1.0):\n",
    "    total_energy = 0.0\n",
    "    n = len(coordinates)\n",
    "    for i in range(n - 1):\n",
    "        for j in range(i + 1, n):\n",
    "            r = np.linalg.norm(coordinates[i] - coordinates[j])\n",
    "            if r == 0: continue\n",
    "            total_energy += 4 * epsilon * ((sigma / r) ** 12 -  (sigma / r) ** 6)\n",
    "    return total_energy"
   ]
  },
  {
   "cell_type": "markdown",
   "id": "5c272400",
   "metadata": {},
   "source": [
    "## **🤖 Algorithm 10.1**"
   ]
  },
  {
   "cell_type": "code",
   "execution_count": null,
   "id": "4090fc2f",
   "metadata": {},
   "outputs": [],
   "source": [
    "# Algorithm with SAM.\n",
    "def SAM_with_TMCMC(n):\n",
    "    N = 2000 * n\n",
    "    initial_coordinates = np.random.rand(n, 3)\n",
    "    coordinates = initial_coordinates.copy()\n",
    "    best_coordinates_so_far = initial_coordinates.copy()\n",
    "    best_energy_so_far = intermolecular_pair_potential(initial_coordinates)\n",
    "\n",
    "    # The algorithm.\n",
    "    for t in range(1, N + 1):\n",
    "        epsilon = np.random.randn()\n",
    "        b = np.array([[np.random.choice([-1.0, 1.0]) for j in range(3)] for i in range(n)]) \n",
    "        coordinates_tilde = coordinates - np.abs(epsilon) * b\n",
    "        tau = t ** -1\n",
    "        if t >= 3: tau = 1 / np.log(np.log(np.log(t)))\n",
    "        alpha = np.min([1.0, np.exp((intermolecular_pair_potential(coordinates_tilde) - intermolecular_pair_potential(coordinates)) / tau)])\n",
    "\n",
    "        # Indicators.\n",
    "        for i in range(n):\n",
    "            for j in range(3):\n",
    "                if coordinates_tilde[i][j] <= 0.0 or coordinates_tilde[i][j] >= 1.0:\n",
    "                    alpha = 0.0\n",
    "                    break\n",
    "        \n",
    "        coordinates = np.random.choice([1.0, 0.0], p=[alpha, 1.0 - alpha]) * coordinates_tilde + coordinates\n",
    "        current_energy = intermolecular_pair_potential(coordinates)\n",
    "        if current_energy < best_energy_so_far:\n",
    "            best_coordinates_so_far = coordinates.copy()\n",
    "            best_energy_so_far = current_energy\n",
    "        if t % 2000 == 0: print(f\"Iteration {t}, Energy: {current_energy}, Best Energy: {best_energy_so_far}\")\n",
    "    \n",
    "    print(\"Final best energy:\", best_energy_so_far)\n",
    "    print(\"Final best coordinates:\\n\", best_coordinates_so_far)\n",
    "    return best_coordinates_so_far, best_energy_so_far"
   ]
  },
  {
   "cell_type": "markdown",
   "id": "c597959a",
   "metadata": {},
   "source": [
    "## **🤖 Algorithm 11.1**"
   ]
  },
  {
   "cell_type": "code",
   "execution_count": 12,
   "id": "9804b730",
   "metadata": {},
   "outputs": [],
   "source": [
    "# Mixing properties.\n",
    "def mixing_props(n, N):\n",
    "    N = 2000 * n\n",
    "    initial_coordinates = np.random.rand(n, 3)\n",
    "    coordinates = initial_coordinates.copy()\n",
    "    best_coordinates_so_far = initial_coordinates.copy()\n",
    "    best_energy_so_far = intermolecular_pair_potential(initial_coordinates)\n",
    "\n",
    "    # The algorithm.\n",
    "    for t in range(1, N + 1):\n",
    "\n",
    "        \n",
    "        current_energy = intermolecular_pair_potential(coordinates)\n",
    "        if current_energy < best_energy_so_far:\n",
    "            best_coordinates_so_far = coordinates.copy()\n",
    "            best_energy_so_far = current_energy\n",
    "        if t % 2000 == 0: print(f\"Iteration {t}, Energy: {current_energy}, Best Energy: {best_energy_so_far}\")\n",
    "    \n",
    "\n",
    "    print(\"Final best energy:\", best_energy_so_far)\n",
    "    print(\"Final best coordinates:\\n\", best_coordinates_so_far)\n",
    "    return best_coordinates_so_far, best_energy_so_far"
   ]
  },
  {
   "cell_type": "markdown",
   "id": "1953f56a",
   "metadata": {},
   "source": [
    "## **🧪 Testing**"
   ]
  },
  {
   "cell_type": "code",
   "execution_count": 13,
   "id": "97321083",
   "metadata": {},
   "outputs": [
    {
     "name": "stderr",
     "output_type": "stream",
     "text": [
      "C:\\Users\\rwidd\\AppData\\Local\\Temp\\ipykernel_19988\\118955257.py:16: RuntimeWarning: overflow encountered in exp\n",
      "  alpha = np.min([1.0, np.exp((intermolecular_pair_potential(coordinates_tilde) - intermolecular_pair_potential(coordinates)) / tau)])\n",
      "C:\\Users\\rwidd\\AppData\\Local\\Temp\\ipykernel_19988\\3935658315.py:7: RuntimeWarning: overflow encountered in subtract\n",
      "  r = np.linalg.norm(coordinates[i] - coordinates[j])\n",
      "C:\\Users\\rwidd\\AppData\\Local\\Temp\\ipykernel_19988\\118955257.py:25: RuntimeWarning: overflow encountered in add\n",
      "  coordinates = np.random.choice([1.0, 0.0], p=[alpha, 1.0 - alpha]) * coordinates_tilde + coordinates\n",
      "C:\\Users\\rwidd\\AppData\\Local\\Temp\\ipykernel_19988\\3935658315.py:7: RuntimeWarning: invalid value encountered in subtract\n",
      "  r = np.linalg.norm(coordinates[i] - coordinates[j])\n"
     ]
    },
    {
     "ename": "ValueError",
     "evalue": "probabilities contain NaN",
     "output_type": "error",
     "traceback": [
      "\u001b[31m---------------------------------------------------------------------------\u001b[39m",
      "\u001b[31mValueError\u001b[39m                                Traceback (most recent call last)",
      "\u001b[36mCell\u001b[39m\u001b[36m \u001b[39m\u001b[32mIn[13]\u001b[39m\u001b[32m, line 2\u001b[39m\n\u001b[32m      1\u001b[39m \u001b[38;5;66;03m# Run the algorithm with parameters. This is a custom thing.\u001b[39;00m\n\u001b[32m----> \u001b[39m\u001b[32m2\u001b[39m optimized_coordinates, optimized_energy = \u001b[43mSAM_with_TMCMC\u001b[49m\u001b[43m(\u001b[49m\u001b[32;43m10\u001b[39;49m\u001b[43m)\u001b[49m\n",
      "\u001b[36mCell\u001b[39m\u001b[36m \u001b[39m\u001b[32mIn[11]\u001b[39m\u001b[32m, line 25\u001b[39m, in \u001b[36mSAM_with_TMCMC\u001b[39m\u001b[34m(n)\u001b[39m\n\u001b[32m     16\u001b[39m alpha = np.min([\u001b[32m1.0\u001b[39m, np.exp((intermolecular_pair_potential(coordinates_tilde) - intermolecular_pair_potential(coordinates)) / tau)])\n\u001b[32m     18\u001b[39m \u001b[38;5;66;03m# Indicators.\u001b[39;00m\n\u001b[32m     19\u001b[39m \u001b[38;5;66;03m# for i in range(n):\u001b[39;00m\n\u001b[32m     20\u001b[39m \u001b[38;5;66;03m#     for j in range(3):\u001b[39;00m\n\u001b[32m     21\u001b[39m \u001b[38;5;66;03m#         if coordinates_tilde[i][j] <= 0.0 or coordinates_tilde[i][j] >= 1.0:\u001b[39;00m\n\u001b[32m     22\u001b[39m \u001b[38;5;66;03m#             alpha = 0.0\u001b[39;00m\n\u001b[32m     23\u001b[39m \u001b[38;5;66;03m#             break\u001b[39;00m\n\u001b[32m---> \u001b[39m\u001b[32m25\u001b[39m coordinates = \u001b[43mnp\u001b[49m\u001b[43m.\u001b[49m\u001b[43mrandom\u001b[49m\u001b[43m.\u001b[49m\u001b[43mchoice\u001b[49m\u001b[43m(\u001b[49m\u001b[43m[\u001b[49m\u001b[32;43m1.0\u001b[39;49m\u001b[43m,\u001b[49m\u001b[43m \u001b[49m\u001b[32;43m0.0\u001b[39;49m\u001b[43m]\u001b[49m\u001b[43m,\u001b[49m\u001b[43m \u001b[49m\u001b[43mp\u001b[49m\u001b[43m=\u001b[49m\u001b[43m[\u001b[49m\u001b[43malpha\u001b[49m\u001b[43m,\u001b[49m\u001b[43m \u001b[49m\u001b[32;43m1.0\u001b[39;49m\u001b[43m \u001b[49m\u001b[43m-\u001b[49m\u001b[43m \u001b[49m\u001b[43malpha\u001b[49m\u001b[43m]\u001b[49m\u001b[43m)\u001b[49m * coordinates_tilde + coordinates\n\u001b[32m     26\u001b[39m current_energy = intermolecular_pair_potential(coordinates)\n\u001b[32m     27\u001b[39m \u001b[38;5;28;01mif\u001b[39;00m current_energy < best_energy_so_far:\n",
      "\u001b[36mFile \u001b[39m\u001b[32mnumpy\\\\random\\\\mtrand.pyx:990\u001b[39m, in \u001b[36mnumpy.random.mtrand.RandomState.choice\u001b[39m\u001b[34m()\u001b[39m\n",
      "\u001b[31mValueError\u001b[39m: probabilities contain NaN"
     ]
    }
   ],
   "source": [
    "# Run the algorithm with parameters. This is a custom thing.\n",
    "optimized_coordinates, optimized_energy = SAM_with_TMCMC(10)"
   ]
  }
 ],
 "metadata": {
  "kernelspec": {
   "display_name": "Python 3",
   "language": "python",
   "name": "python3"
  },
  "language_info": {
   "codemirror_mode": {
    "name": "ipython",
    "version": 3
   },
   "file_extension": ".py",
   "mimetype": "text/x-python",
   "name": "python",
   "nbconvert_exporter": "python",
   "pygments_lexer": "ipython3",
   "version": "3.13.2"
  }
 },
 "nbformat": 4,
 "nbformat_minor": 5
}
