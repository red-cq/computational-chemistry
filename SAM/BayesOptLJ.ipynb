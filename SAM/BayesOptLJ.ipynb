{
 "cells": [
  {
   "cell_type": "markdown",
   "id": "c1ee2d9e",
   "metadata": {},
   "source": [
    "# **🧬 BayesOpt**"
   ]
  },
  {
   "cell_type": "code",
   "execution_count": 1,
   "id": "52df752d",
   "metadata": {},
   "outputs": [],
   "source": [
    "import numpy as np\n",
    "import matplotlib.pyplot as plt\n",
    "from sklearn.gaussian_process import GaussianProcessRegressor\n",
    "from sklearn.gaussian_process.kernels import Matern\n",
    "from scipy.optimize import minimize\n",
    "from scipy.stats import norm"
   ]
  },
  {
   "cell_type": "markdown",
   "id": "7e10d8f7",
   "metadata": {},
   "source": [
    "## **📡 Lennard-Jones Potential**"
   ]
  },
  {
   "cell_type": "code",
   "execution_count": 2,
   "id": "2dbf02dd",
   "metadata": {},
   "outputs": [],
   "source": [
    "def intermolecular_pair_potential(coordinates, epsilon=1.0, sigma=1.0):\n",
    "    total_energy = 0.0\n",
    "    n = len(coordinates)\n",
    "    for i in range(n - 1):\n",
    "        for j in range(i + 1, n):\n",
    "            r = np.linalg.norm(coordinates[i] - coordinates[j])\n",
    "            if r == 0:\n",
    "                continue\n",
    "            total_energy += 4 * epsilon * ((sigma / r) ** 12 - (sigma / r) ** 6)\n",
    "    return total_energy\n",
    "\n",
    "def lj_wrapper(x, epsilon=1.0, sigma=1.0):\n",
    "    coords = x.reshape(-1, 3)\n",
    "    return intermolecular_pair_potential(coords, epsilon, sigma)"
   ]
  },
  {
   "cell_type": "markdown",
   "id": "aa0cc1c6",
   "metadata": {},
   "source": [
    "## **🧪 Expected Improvement**"
   ]
  },
  {
   "cell_type": "code",
   "execution_count": 3,
   "id": "c93446ea",
   "metadata": {},
   "outputs": [],
   "source": [
    "def expected_improvement(X, X_sample, Y_sample, gpr, xi=0.01):\n",
    "    mu, sigma = gpr.predict(X, return_std=True)\n",
    "    mu_sample_opt = np.min(Y_sample)\n",
    "\n",
    "    with np.errstate(divide='warn'):\n",
    "        imp = mu_sample_opt - mu - xi\n",
    "        Z = imp / sigma\n",
    "        ei = imp * norm.cdf(Z) + sigma * norm.pdf(Z)\n",
    "        ei[sigma == 0.0] = 0.0\n",
    "    return ei"
   ]
  },
  {
   "cell_type": "markdown",
   "id": "7256a9db",
   "metadata": {},
   "source": [
    "## **🔍 Acquisition Optimizer**"
   ]
  },
  {
   "cell_type": "code",
   "execution_count": 4,
   "id": "29a9509d",
   "metadata": {},
   "outputs": [],
   "source": [
    "def propose_location(acq_func, X_sample, Y_sample, gpr, bounds, n_restarts=25):\n",
    "    dim = bounds.shape[0]\n",
    "    min_val = float(\"inf\")\n",
    "    min_x = None\n",
    "\n",
    "    def min_obj(X):\n",
    "        return -acq_func(X.reshape(1, -1), X_sample, Y_sample, gpr)\n",
    "\n",
    "    for _ in range(n_restarts):\n",
    "        x0 = np.random.uniform(bounds[:, 0], bounds[:, 1], size=dim)\n",
    "        res = minimize(min_obj, x0=x0, bounds=bounds, method=\"L-BFGS-B\")\n",
    "        if res.fun < min_val:\n",
    "            min_val = res.fun\n",
    "            min_x = res.x\n",
    "    return min_x.reshape(1, -1)"
   ]
  },
  {
   "cell_type": "markdown",
   "id": "f175b9a5",
   "metadata": {},
   "source": [
    "## **🤖 Bayesian Optimization Loop**"
   ]
  },
  {
   "cell_type": "code",
   "execution_count": 5,
   "id": "62e3a8a5",
   "metadata": {},
   "outputs": [],
   "source": [
    "def bayesopt_lj(n_particles=4, n_iter=15):\n",
    "    dim = n_particles * 3\n",
    "    bounds = np.array([[0.0, 1.0]] * dim)\n",
    "\n",
    "    X_sample = np.random.uniform(0, 1, size=(5, dim))\n",
    "    Y_sample = np.array([[lj_wrapper(x)] for x in X_sample])\n",
    "\n",
    "    kernel = Matern(nu=2.5)\n",
    "    gpr = GaussianProcessRegressor(kernel=kernel, alpha=1e-6)\n",
    "\n",
    "    for i in range(n_iter):\n",
    "        gpr.fit(X_sample, Y_sample.ravel())\n",
    "        X_next = propose_location(expected_improvement, X_sample, Y_sample, gpr, bounds)\n",
    "        Y_next = lj_wrapper(X_next.ravel())\n",
    "        X_sample = np.vstack((X_sample, X_next))\n",
    "        Y_sample = np.vstack((Y_sample, [[Y_next]]))\n",
    "        print(f\"Iteration {i+1}: Energy = {Y_next:.6f}\")\n",
    "\n",
    "    best_idx = np.argmin(Y_sample)\n",
    "    best_x = X_sample[best_idx].reshape(-1, 3)\n",
    "    best_energy = Y_sample[best_idx][0]\n",
    "    print(\"\\nBest Energy Found:\", best_energy)\n",
    "    print(\"Best Configuration:\\n\", best_x)\n",
    "    return best_x, best_energy"
   ]
  },
  {
   "cell_type": "markdown",
   "id": "42761efd",
   "metadata": {},
   "source": [
    "## **🚀 Running**"
   ]
  },
  {
   "cell_type": "code",
   "execution_count": 6,
   "id": "85ea96a9",
   "metadata": {},
   "outputs": [
    {
     "name": "stdout",
     "output_type": "stream",
     "text": [
      "Iteration 1: Energy = 2989.195511\n",
      "Iteration 2: Energy = 140991334856.977020\n"
     ]
    },
    {
     "name": "stderr",
     "output_type": "stream",
     "text": [
      "c:\\Users\\rwidd\\AppData\\Local\\Programs\\Python\\Python313\\Lib\\site-packages\\sklearn\\gaussian_process\\kernels.py:442: ConvergenceWarning: The optimal value found for dimension 0 of parameter length_scale is close to the specified lower bound 1e-05. Decreasing the bound and calling fit again may find a better value.\n",
      "  warnings.warn(\n"
     ]
    },
    {
     "name": "stdout",
     "output_type": "stream",
     "text": [
      "Iteration 3: Energy = 64618851.801851\n",
      "Iteration 4: Energy = 2292779.556089\n"
     ]
    },
    {
     "name": "stderr",
     "output_type": "stream",
     "text": [
      "c:\\Users\\rwidd\\AppData\\Local\\Programs\\Python\\Python313\\Lib\\site-packages\\sklearn\\gaussian_process\\kernels.py:442: ConvergenceWarning: The optimal value found for dimension 0 of parameter length_scale is close to the specified lower bound 1e-05. Decreasing the bound and calling fit again may find a better value.\n",
      "  warnings.warn(\n",
      "c:\\Users\\rwidd\\AppData\\Local\\Programs\\Python\\Python313\\Lib\\site-packages\\sklearn\\gaussian_process\\kernels.py:442: ConvergenceWarning: The optimal value found for dimension 0 of parameter length_scale is close to the specified lower bound 1e-05. Decreasing the bound and calling fit again may find a better value.\n",
      "  warnings.warn(\n"
     ]
    },
    {
     "name": "stdout",
     "output_type": "stream",
     "text": [
      "Iteration 5: Energy = 122576.850587\n"
     ]
    },
    {
     "name": "stderr",
     "output_type": "stream",
     "text": [
      "c:\\Users\\rwidd\\AppData\\Local\\Programs\\Python\\Python313\\Lib\\site-packages\\sklearn\\gaussian_process\\kernels.py:442: ConvergenceWarning: The optimal value found for dimension 0 of parameter length_scale is close to the specified lower bound 1e-05. Decreasing the bound and calling fit again may find a better value.\n",
      "  warnings.warn(\n"
     ]
    },
    {
     "name": "stdout",
     "output_type": "stream",
     "text": [
      "Iteration 6: Energy = 5694.037179\n"
     ]
    },
    {
     "name": "stderr",
     "output_type": "stream",
     "text": [
      "c:\\Users\\rwidd\\AppData\\Local\\Programs\\Python\\Python313\\Lib\\site-packages\\sklearn\\gaussian_process\\kernels.py:442: ConvergenceWarning: The optimal value found for dimension 0 of parameter length_scale is close to the specified lower bound 1e-05. Decreasing the bound and calling fit again may find a better value.\n",
      "  warnings.warn(\n"
     ]
    },
    {
     "name": "stdout",
     "output_type": "stream",
     "text": [
      "Iteration 7: Energy = 1288.354694\n"
     ]
    },
    {
     "name": "stderr",
     "output_type": "stream",
     "text": [
      "c:\\Users\\rwidd\\AppData\\Local\\Programs\\Python\\Python313\\Lib\\site-packages\\sklearn\\gaussian_process\\kernels.py:442: ConvergenceWarning: The optimal value found for dimension 0 of parameter length_scale is close to the specified lower bound 1e-05. Decreasing the bound and calling fit again may find a better value.\n",
      "  warnings.warn(\n"
     ]
    },
    {
     "name": "stdout",
     "output_type": "stream",
     "text": [
      "Iteration 8: Energy = 25742.219916\n",
      "Iteration 9: Energy = 392366615.866109\n"
     ]
    },
    {
     "name": "stderr",
     "output_type": "stream",
     "text": [
      "c:\\Users\\rwidd\\AppData\\Local\\Programs\\Python\\Python313\\Lib\\site-packages\\sklearn\\gaussian_process\\kernels.py:442: ConvergenceWarning: The optimal value found for dimension 0 of parameter length_scale is close to the specified lower bound 1e-05. Decreasing the bound and calling fit again may find a better value.\n",
      "  warnings.warn(\n",
      "c:\\Users\\rwidd\\AppData\\Local\\Programs\\Python\\Python313\\Lib\\site-packages\\sklearn\\gaussian_process\\kernels.py:442: ConvergenceWarning: The optimal value found for dimension 0 of parameter length_scale is close to the specified lower bound 1e-05. Decreasing the bound and calling fit again may find a better value.\n",
      "  warnings.warn(\n"
     ]
    },
    {
     "name": "stdout",
     "output_type": "stream",
     "text": [
      "Iteration 10: Energy = 20829612012495.277344\n"
     ]
    },
    {
     "name": "stderr",
     "output_type": "stream",
     "text": [
      "c:\\Users\\rwidd\\AppData\\Local\\Programs\\Python\\Python313\\Lib\\site-packages\\sklearn\\gaussian_process\\kernels.py:442: ConvergenceWarning: The optimal value found for dimension 0 of parameter length_scale is close to the specified lower bound 1e-05. Decreasing the bound and calling fit again may find a better value.\n",
      "  warnings.warn(\n"
     ]
    },
    {
     "name": "stdout",
     "output_type": "stream",
     "text": [
      "Iteration 11: Energy = 1845.801762\n"
     ]
    },
    {
     "name": "stderr",
     "output_type": "stream",
     "text": [
      "c:\\Users\\rwidd\\AppData\\Local\\Programs\\Python\\Python313\\Lib\\site-packages\\sklearn\\gaussian_process\\kernels.py:442: ConvergenceWarning: The optimal value found for dimension 0 of parameter length_scale is close to the specified lower bound 1e-05. Decreasing the bound and calling fit again may find a better value.\n",
      "  warnings.warn(\n"
     ]
    },
    {
     "name": "stdout",
     "output_type": "stream",
     "text": [
      "Iteration 12: Energy = 1751596236.948915\n"
     ]
    },
    {
     "name": "stderr",
     "output_type": "stream",
     "text": [
      "c:\\Users\\rwidd\\AppData\\Local\\Programs\\Python\\Python313\\Lib\\site-packages\\sklearn\\gaussian_process\\kernels.py:442: ConvergenceWarning: The optimal value found for dimension 0 of parameter length_scale is close to the specified lower bound 1e-05. Decreasing the bound and calling fit again may find a better value.\n",
      "  warnings.warn(\n"
     ]
    },
    {
     "name": "stdout",
     "output_type": "stream",
     "text": [
      "Iteration 13: Energy = 61318.293540\n"
     ]
    },
    {
     "name": "stderr",
     "output_type": "stream",
     "text": [
      "c:\\Users\\rwidd\\AppData\\Local\\Programs\\Python\\Python313\\Lib\\site-packages\\sklearn\\gaussian_process\\kernels.py:442: ConvergenceWarning: The optimal value found for dimension 0 of parameter length_scale is close to the specified lower bound 1e-05. Decreasing the bound and calling fit again may find a better value.\n",
      "  warnings.warn(\n"
     ]
    },
    {
     "name": "stdout",
     "output_type": "stream",
     "text": [
      "Iteration 14: Energy = 44373725.743090\n"
     ]
    },
    {
     "name": "stderr",
     "output_type": "stream",
     "text": [
      "c:\\Users\\rwidd\\AppData\\Local\\Programs\\Python\\Python313\\Lib\\site-packages\\sklearn\\gaussian_process\\kernels.py:442: ConvergenceWarning: The optimal value found for dimension 0 of parameter length_scale is close to the specified lower bound 1e-05. Decreasing the bound and calling fit again may find a better value.\n",
      "  warnings.warn(\n"
     ]
    },
    {
     "name": "stdout",
     "output_type": "stream",
     "text": [
      "Iteration 15: Energy = 690059.942090\n",
      "\n",
      "Best Energy Found: 1288.3546940832605\n",
      "Best Configuration:\n",
      " [[0.75865016 0.00281375 0.45488861]\n",
      " [0.32277493 0.6625115  0.38969452]\n",
      " [0.79612663 0.95936689 0.67905616]\n",
      " [0.23326595 0.01543737 0.9202505 ]]\n"
     ]
    }
   ],
   "source": [
    "best_coords, final_energy = bayesopt_lj(n_particles=4, n_iter=15)"
   ]
  }
 ],
 "metadata": {
  "kernelspec": {
   "display_name": "Python 3",
   "language": "python",
   "name": "python3"
  },
  "language_info": {
   "codemirror_mode": {
    "name": "ipython",
    "version": 3
   },
   "file_extension": ".py",
   "mimetype": "text/x-python",
   "name": "python",
   "nbconvert_exporter": "python",
   "pygments_lexer": "ipython3",
   "version": "3.13.2"
  }
 },
 "nbformat": 4,
 "nbformat_minor": 5
}
