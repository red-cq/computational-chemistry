{
 "cells": [
  {
   "cell_type": "markdown",
   "id": "f064bad3",
   "metadata": {},
   "source": [
    "# **⚡ SAM Algorithm**"
   ]
  },
  {
   "cell_type": "code",
   "execution_count": null,
   "id": "41713b3d",
   "metadata": {},
   "outputs": [],
   "source": [
    "import numpy as np\n",
    "import pandas as pd\n",
    "import matplotlib.pyplot as plt\n",
    "import seaborn as sns"
   ]
  },
  {
   "cell_type": "markdown",
   "id": "98ccc8e7",
   "metadata": {},
   "source": [
    "## **🧮 Intermolecular Potential**"
   ]
  },
  {
   "cell_type": "code",
   "execution_count": null,
   "id": "a9f12d1b",
   "metadata": {},
   "outputs": [],
   "source": [
    "# Lennard-Jones potential between all pairs\n",
    "def intermolecular_pair_potential(coordinates, epsilon=1.0, sigma=1.0):\n",
    "    total_energy = 0.0\n",
    "    n = len(coordinates)\n",
    "    for i in range(n - 1):\n",
    "        for j in range(i + 1, n):\n",
    "            r = np.linalg.norm(coordinates[i] - coordinates[j])\n",
    "            # Avoid division by zero or too small r\n",
    "            if r == 0:\n",
    "                continue\n",
    "            total_energy += 4 * epsilon * ((sigma / r) ** 12 - (sigma / r) ** 6)\n",
    "    return total_energy"
   ]
  },
  {
   "cell_type": "markdown",
   "id": "bb370b1f",
   "metadata": {},
   "source": [
    "## **🧬 Annealing Lennard-Jones**"
   ]
  },
  {
   "cell_type": "code",
   "execution_count": null,
   "id": "a52a1259",
   "metadata": {},
   "outputs": [],
   "source": [
    "# Simulated annealing MCMC optimizer for particle coordinates\n",
    "def simulated_annealing_lj(initial_coords, epsilon=1.0, sigma=1.0, max_iterations=20000, step_size=0.05, T0=10, alpha=0.999):\n",
    "    coords = initial_coords.copy()\n",
    "    current_energy = intermolecular_pair_potential(coords, epsilon, sigma)\n",
    "    best_coords = coords.copy()\n",
    "    best_energy = current_energy\n",
    "    \n",
    "    T = T0\n",
    "    for iteration in range(max_iterations):\n",
    "        # Propose new coordinates with small Gaussian perturbation\n",
    "        proposal = coords + np.random.normal(scale=step_size, size=coords.shape)\n",
    "        proposal_energy = intermolecular_pair_potential(proposal, epsilon, sigma)\n",
    "        \n",
    "        delta_energy = proposal_energy - current_energy\n",
    "        \n",
    "        # Acceptance probability\n",
    "        if delta_energy < 0 or np.random.rand() < np.exp(-delta_energy / T):\n",
    "            coords = proposal\n",
    "            current_energy = proposal_energy\n",
    "            \n",
    "            # Track best solution\n",
    "            if current_energy < best_energy:\n",
    "                best_energy = current_energy\n",
    "                best_coords = coords.copy()\n",
    "        \n",
    "        # Temperature decay\n",
    "        T *= alpha\n",
    "        \n",
    "        # Optional: print progress every 2000 iterations\n",
    "        if iteration % 2000 == 0:\n",
    "            print(f\"Iter {iteration:5d} | Temp {T:.5f} | Energy {current_energy:.5f}\")\n",
    "            \n",
    "        # Stop early if temperature is very low\n",
    "        if T < 1e-6:\n",
    "            break\n",
    "    \n",
    "    print(f\"Best energy found: {best_energy:.5f}\")\n",
    "    return best_coords, best_energy"
   ]
  },
  {
   "cell_type": "markdown",
   "id": "fd62dd12",
   "metadata": {},
   "source": [
    "## **🧪 Testing**"
   ]
  },
  {
   "cell_type": "code",
   "execution_count": null,
   "id": "383c697e",
   "metadata": {},
   "outputs": [],
   "source": [
    "# Example usage\n",
    "np.random.seed(42)\n",
    "initial_coords = np.random.rand(30, 3)  # 10 particles in 3D\n",
    "\n",
    "optimized_coords, final_energy = simulated_annealing_lj(initial_coords)\n",
    "\n",
    "print(\"Optimized Coordinates:\\n\", optimized_coords)\n",
    "print(\"Final Potential Energy:\", final_energy)"
   ]
  }
 ],
 "metadata": {
  "kernelspec": {
   "display_name": "Python 3",
   "language": "python",
   "name": "python3"
  },
  "language_info": {
   "codemirror_mode": {
    "name": "ipython",
    "version": 3
   },
   "file_extension": ".py",
   "mimetype": "text/x-python",
   "name": "python",
   "nbconvert_exporter": "python",
   "pygments_lexer": "ipython3",
   "version": "3.13.2"
  }
 },
 "nbformat": 4,
 "nbformat_minor": 5
}
